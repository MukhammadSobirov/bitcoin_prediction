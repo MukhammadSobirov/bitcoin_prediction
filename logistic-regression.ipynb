{
 "cells": [
  {
   "cell_type": "code",
   "execution_count": 35,
   "id": "initial_id",
   "metadata": {
    "collapsed": true,
    "ExecuteTime": {
     "end_time": "2024-04-17T02:38:50.243917100Z",
     "start_time": "2024-04-17T02:38:50.233919800Z"
    }
   },
   "outputs": [],
   "source": [
    "import pandas as pd\n",
    "import matplotlib.pyplot as plt"
   ]
  },
  {
   "cell_type": "code",
   "execution_count": 36,
   "outputs": [
    {
     "name": "stdout",
     "output_type": "stream",
     "text": [
      "<class 'pandas.core.frame.DataFrame'>\n",
      "RangeIndex: 2788 entries, 0 to 2787\n",
      "Data columns (total 7 columns):\n",
      " #   Column     Non-Null Count  Dtype  \n",
      "---  ------     --------------  -----  \n",
      " 0   Date       2788 non-null   object \n",
      " 1   Open       2788 non-null   float64\n",
      " 2   High       2788 non-null   float64\n",
      " 3   Low        2788 non-null   float64\n",
      " 4   Volume     2788 non-null   int64  \n",
      " 5   Adj Close  2788 non-null   float64\n",
      " 6   Close      2788 non-null   float64\n",
      "dtypes: float64(5), int64(1), object(1)\n",
      "memory usage: 152.6+ KB\n"
     ]
    }
   ],
   "source": [
    "df = pd.read_csv('data/BTC-USD.csv')\n",
    "df = df[[ 'Date', 'Open', 'High', 'Low', 'Volume', 'Adj Close', 'Close']]\n",
    "df.info()"
   ],
   "metadata": {
    "collapsed": false,
    "ExecuteTime": {
     "end_time": "2024-04-17T02:38:50.275797300Z",
     "start_time": "2024-04-17T02:38:50.235915700Z"
    }
   },
   "id": "c557f746d1410d5f"
  },
  {
   "cell_type": "code",
   "execution_count": 37,
   "outputs": [],
   "source": [
    "df['Date'] = pd.to_datetime(df['Date'])\n",
    "\n",
    "# Extract year, month, and day\n",
    "df['Year'] = df['Date'].dt.year\n",
    "df['Month'] = df['Date'].dt.month\n",
    "df['Day'] = df['Date'].dt.day\n",
    "\n",
    "df.drop(columns=['Date'], inplace=True)"
   ],
   "metadata": {
    "collapsed": false,
    "ExecuteTime": {
     "end_time": "2024-04-17T02:38:50.275797300Z",
     "start_time": "2024-04-17T02:38:50.257110400Z"
    }
   },
   "id": "e15f4c8d1d533fe9"
  },
  {
   "cell_type": "code",
   "execution_count": 38,
   "outputs": [
    {
     "data": {
      "text/plain": "         Open        High         Low    Volume   Adj Close       Close  Year  \\\n0  465.864014  468.174011  452.421997  21056800  457.334015  457.334015  2014   \n1  456.859985  456.859985  413.104004  34483200  424.440002  424.440002  2014   \n2  424.102997  427.834991  384.532013  37919700  394.795990  394.795990  2014   \n3  394.673004  423.295990  389.882996  36863600  408.903992  408.903992  2014   \n4  408.084991  412.425995  393.181000  26580100  398.821014  398.821014  2014   \n\n   Month  Day  \n0      9   17  \n1      9   18  \n2      9   19  \n3      9   20  \n4      9   21  ",
      "text/html": "<div>\n<style scoped>\n    .dataframe tbody tr th:only-of-type {\n        vertical-align: middle;\n    }\n\n    .dataframe tbody tr th {\n        vertical-align: top;\n    }\n\n    .dataframe thead th {\n        text-align: right;\n    }\n</style>\n<table border=\"1\" class=\"dataframe\">\n  <thead>\n    <tr style=\"text-align: right;\">\n      <th></th>\n      <th>Open</th>\n      <th>High</th>\n      <th>Low</th>\n      <th>Volume</th>\n      <th>Adj Close</th>\n      <th>Close</th>\n      <th>Year</th>\n      <th>Month</th>\n      <th>Day</th>\n    </tr>\n  </thead>\n  <tbody>\n    <tr>\n      <th>0</th>\n      <td>465.864014</td>\n      <td>468.174011</td>\n      <td>452.421997</td>\n      <td>21056800</td>\n      <td>457.334015</td>\n      <td>457.334015</td>\n      <td>2014</td>\n      <td>9</td>\n      <td>17</td>\n    </tr>\n    <tr>\n      <th>1</th>\n      <td>456.859985</td>\n      <td>456.859985</td>\n      <td>413.104004</td>\n      <td>34483200</td>\n      <td>424.440002</td>\n      <td>424.440002</td>\n      <td>2014</td>\n      <td>9</td>\n      <td>18</td>\n    </tr>\n    <tr>\n      <th>2</th>\n      <td>424.102997</td>\n      <td>427.834991</td>\n      <td>384.532013</td>\n      <td>37919700</td>\n      <td>394.795990</td>\n      <td>394.795990</td>\n      <td>2014</td>\n      <td>9</td>\n      <td>19</td>\n    </tr>\n    <tr>\n      <th>3</th>\n      <td>394.673004</td>\n      <td>423.295990</td>\n      <td>389.882996</td>\n      <td>36863600</td>\n      <td>408.903992</td>\n      <td>408.903992</td>\n      <td>2014</td>\n      <td>9</td>\n      <td>20</td>\n    </tr>\n    <tr>\n      <th>4</th>\n      <td>408.084991</td>\n      <td>412.425995</td>\n      <td>393.181000</td>\n      <td>26580100</td>\n      <td>398.821014</td>\n      <td>398.821014</td>\n      <td>2014</td>\n      <td>9</td>\n      <td>21</td>\n    </tr>\n  </tbody>\n</table>\n</div>"
     },
     "execution_count": 38,
     "metadata": {},
     "output_type": "execute_result"
    }
   ],
   "source": [
    "df.head()"
   ],
   "metadata": {
    "collapsed": false,
    "ExecuteTime": {
     "end_time": "2024-04-17T02:38:50.275797300Z",
     "start_time": "2024-04-17T02:38:50.268096600Z"
    }
   },
   "id": "d763716d56a087b2"
  },
  {
   "cell_type": "code",
   "execution_count": 39,
   "outputs": [],
   "source": [
    "# fig, ax = plt.subplots(figsize=(20,6))\n",
    "# ax.plot(df[\"Year\"], df['High'], label='High')\n",
    "# ax.plot(df[\"Year\"], df['Low'], label='Low')\n",
    "# ax.plot(df[\"Year\"], df['Close'], label='Close')\n",
    "# \n",
    "# ax.set_title('BTC-USD')\n",
    "# ax.set_xlabel('Year')\n",
    "# ax.set_ylabel('Price') \n",
    "# ax.legend()\n",
    "# plt.show()"
   ],
   "metadata": {
    "collapsed": false,
    "ExecuteTime": {
     "end_time": "2024-04-17T02:38:50.285116600Z",
     "start_time": "2024-04-17T02:38:50.275797300Z"
    }
   },
   "id": "a7fd342a42e1d918"
  },
  {
   "cell_type": "code",
   "execution_count": 40,
   "outputs": [],
   "source": [
    "from sklearn.preprocessing import StandardScaler\n",
    "X = df.drop(['Close'], axis=1)\n",
    "y = df['Close']\n",
    "\n",
    "scaler = StandardScaler()\n",
    "\n",
    "scaled_df = scaler.fit_transform(df)"
   ],
   "metadata": {
    "collapsed": false,
    "ExecuteTime": {
     "end_time": "2024-04-17T02:38:50.294092500Z",
     "start_time": "2024-04-17T02:38:50.280801900Z"
    }
   },
   "id": "c36333740d235730"
  },
  {
   "cell_type": "code",
   "execution_count": 41,
   "outputs": [
    {
     "name": "stdout",
     "output_type": "stream",
     "text": [
      "Training score: 1.0\n",
      "Testing score: 1.0\n"
     ]
    }
   ],
   "source": [
    "from sklearn.model_selection import train_test_split\n",
    "from sklearn.linear_model import LinearRegression\n",
    "from sklearn.metrics import mean_squared_error\n",
    "from sklearn.metrics import accuracy_score\n",
    "\n",
    "scaled_df = pd.DataFrame(scaler.transform(df), columns=df.columns)\n",
    "\n",
    "X = scaled_df.drop(\"Close\", axis=1)\n",
    "y = scaled_df[\"Close\"]\n",
    "X_train, X_test, y_train, y_test = train_test_split(X, y, test_size=0.2, random_state=7)\n",
    "\n",
    "model = LinearRegression()\n",
    "\n",
    "model.fit(X_train, y_train)\n",
    "\n",
    "y_pred_test = model.predict(X_test)\n",
    "y_pred_train = model.predict(X_train)\n",
    "\n",
    "train_score = model.score(X_train, y_train)\n",
    "test_score = model.score(X_test, y_test)\n",
    "print(\"Training score:\", train_score)\n",
    "print(\"Testing score:\", test_score)"
   ],
   "metadata": {
    "collapsed": false,
    "ExecuteTime": {
     "end_time": "2024-04-17T02:38:50.322026200Z",
     "start_time": "2024-04-17T02:38:50.290091500Z"
    }
   },
   "id": "108afc0a2325414b"
  }
 ],
 "metadata": {
  "kernelspec": {
   "display_name": "Python 3",
   "language": "python",
   "name": "python3"
  },
  "language_info": {
   "codemirror_mode": {
    "name": "ipython",
    "version": 2
   },
   "file_extension": ".py",
   "mimetype": "text/x-python",
   "name": "python",
   "nbconvert_exporter": "python",
   "pygments_lexer": "ipython2",
   "version": "2.7.6"
  }
 },
 "nbformat": 4,
 "nbformat_minor": 5
}
